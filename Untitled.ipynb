{
 "cells": [
  {
   "cell_type": "markdown",
   "metadata": {},
   "source": [
    "# Приложение к диплому\n",
    "Создание, обучение и анализ моделей"
   ]
  },
  {
   "cell_type": "markdown",
   "metadata": {},
   "source": [
    "Импортирование библиотек"
   ]
  },
  {
   "cell_type": "code",
   "execution_count": 73,
   "metadata": {},
   "outputs": [],
   "source": [
    "import pandas as pd\n",
    "import numpy as np\n",
    "from sklearn.decomposition import PCA\n",
    "from sklearn.preprocessing import StandardScaler\n",
    "from sklearn.model_selection import train_test_split\n",
    "from sklearn.linear_model import LogisticRegression\n",
    "from sklearn.neural_network import MLPClassifier\n",
    "import pylab as plt\n",
    "import mglearn"
   ]
  },
  {
   "cell_type": "markdown",
   "metadata": {},
   "source": [
    "Чтение данных и первый взгляд"
   ]
  },
  {
   "cell_type": "code",
   "execution_count": 5,
   "metadata": {},
   "outputs": [
    {
     "data": {
      "text/html": [
       "<div>\n",
       "<table border=\"1\" class=\"dataframe\">\n",
       "  <thead>\n",
       "    <tr style=\"text-align: right;\">\n",
       "      <th></th>\n",
       "      <th>Stroke(AIS,TIA,AHS)</th>\n",
       "      <th>Sex01</th>\n",
       "      <th>StrokeAge</th>\n",
       "      <th>gFGB</th>\n",
       "      <th>gF2</th>\n",
       "      <th>gF5</th>\n",
       "      <th>gF7VII</th>\n",
       "      <th>gF13</th>\n",
       "      <th>gITGA</th>\n",
       "      <th>gITGB</th>\n",
       "      <th>...</th>\n",
       "      <th>gADD1 1378 G&gt;T</th>\n",
       "      <th>gAGT T704C</th>\n",
       "      <th>gAGT C521T</th>\n",
       "      <th>gAGTR1 A 1166C</th>\n",
       "      <th>gAGTR2 G1675A</th>\n",
       "      <th>gCYP11B2 C344T</th>\n",
       "      <th>gGNB3 825C&gt;T</th>\n",
       "      <th>gNOS3 T786C</th>\n",
       "      <th>gNOS3 G894T</th>\n",
       "      <th>DisNeuro01</th>\n",
       "    </tr>\n",
       "  </thead>\n",
       "  <tbody>\n",
       "    <tr>\n",
       "      <th>0</th>\n",
       "      <td>AIS</td>\n",
       "      <td>1</td>\n",
       "      <td>1.0</td>\n",
       "      <td>0</td>\n",
       "      <td>0</td>\n",
       "      <td>0</td>\n",
       "      <td>0.0</td>\n",
       "      <td>1.0</td>\n",
       "      <td>2.0</td>\n",
       "      <td>0.0</td>\n",
       "      <td>...</td>\n",
       "      <td>NaN</td>\n",
       "      <td>NaN</td>\n",
       "      <td>NaN</td>\n",
       "      <td>NaN</td>\n",
       "      <td>NaN</td>\n",
       "      <td>NaN</td>\n",
       "      <td>NaN</td>\n",
       "      <td>0.0</td>\n",
       "      <td>2.0</td>\n",
       "      <td>0</td>\n",
       "    </tr>\n",
       "    <tr>\n",
       "      <th>1</th>\n",
       "      <td>AIS</td>\n",
       "      <td>1</td>\n",
       "      <td>3.0</td>\n",
       "      <td>0</td>\n",
       "      <td>0</td>\n",
       "      <td>0</td>\n",
       "      <td>0.0</td>\n",
       "      <td>0.0</td>\n",
       "      <td>2.0</td>\n",
       "      <td>0.0</td>\n",
       "      <td>...</td>\n",
       "      <td>0.0</td>\n",
       "      <td>1.0</td>\n",
       "      <td>0.0</td>\n",
       "      <td>0.0</td>\n",
       "      <td>2.0</td>\n",
       "      <td>1.0</td>\n",
       "      <td>1.0</td>\n",
       "      <td>1.0</td>\n",
       "      <td>1.0</td>\n",
       "      <td>0</td>\n",
       "    </tr>\n",
       "    <tr>\n",
       "      <th>2</th>\n",
       "      <td>AIS</td>\n",
       "      <td>0</td>\n",
       "      <td>5.0</td>\n",
       "      <td>0</td>\n",
       "      <td>0</td>\n",
       "      <td>0</td>\n",
       "      <td>0.0</td>\n",
       "      <td>1.0</td>\n",
       "      <td>1.0</td>\n",
       "      <td>2.0</td>\n",
       "      <td>...</td>\n",
       "      <td>1.0</td>\n",
       "      <td>2.0</td>\n",
       "      <td>1.0</td>\n",
       "      <td>0.0</td>\n",
       "      <td>2.0</td>\n",
       "      <td>1.0</td>\n",
       "      <td>0.0</td>\n",
       "      <td>2.0</td>\n",
       "      <td>0.0</td>\n",
       "      <td>0</td>\n",
       "    </tr>\n",
       "    <tr>\n",
       "      <th>3</th>\n",
       "      <td>AIS</td>\n",
       "      <td>1</td>\n",
       "      <td>0.0</td>\n",
       "      <td>0</td>\n",
       "      <td>0</td>\n",
       "      <td>0</td>\n",
       "      <td>0.0</td>\n",
       "      <td>0.0</td>\n",
       "      <td>2.0</td>\n",
       "      <td>1.0</td>\n",
       "      <td>...</td>\n",
       "      <td>0.0</td>\n",
       "      <td>1.0</td>\n",
       "      <td>1.0</td>\n",
       "      <td>0.0</td>\n",
       "      <td>2.0</td>\n",
       "      <td>1.0</td>\n",
       "      <td>2.0</td>\n",
       "      <td>1.0</td>\n",
       "      <td>1.0</td>\n",
       "      <td>0</td>\n",
       "    </tr>\n",
       "    <tr>\n",
       "      <th>4</th>\n",
       "      <td>AIS</td>\n",
       "      <td>1</td>\n",
       "      <td>13.0</td>\n",
       "      <td>0</td>\n",
       "      <td>0</td>\n",
       "      <td>0</td>\n",
       "      <td>1.0</td>\n",
       "      <td>0.0</td>\n",
       "      <td>0.0</td>\n",
       "      <td>0.0</td>\n",
       "      <td>...</td>\n",
       "      <td>NaN</td>\n",
       "      <td>NaN</td>\n",
       "      <td>NaN</td>\n",
       "      <td>NaN</td>\n",
       "      <td>NaN</td>\n",
       "      <td>NaN</td>\n",
       "      <td>NaN</td>\n",
       "      <td>NaN</td>\n",
       "      <td>NaN</td>\n",
       "      <td>0</td>\n",
       "    </tr>\n",
       "  </tbody>\n",
       "</table>\n",
       "<p>5 rows × 25 columns</p>\n",
       "</div>"
      ],
      "text/plain": [
       "  Stroke(AIS,TIA,AHS)  Sex01  StrokeAge  gFGB  gF2  gF5  gF7VII  gF13  gITGA  \\\n",
       "0                 AIS      1        1.0     0    0    0     0.0   1.0    2.0   \n",
       "1                 AIS      1        3.0     0    0    0     0.0   0.0    2.0   \n",
       "2                 AIS      0        5.0     0    0    0     0.0   1.0    1.0   \n",
       "3                 AIS      1        0.0     0    0    0     0.0   0.0    2.0   \n",
       "4                 AIS      1       13.0     0    0    0     1.0   0.0    0.0   \n",
       "\n",
       "   gITGB     ...      gADD1 1378 G>T  gAGT T704C  gAGT C521T  gAGTR1 A 1166C  \\\n",
       "0    0.0     ...                 NaN         NaN         NaN             NaN   \n",
       "1    0.0     ...                 0.0         1.0         0.0             0.0   \n",
       "2    2.0     ...                 1.0         2.0         1.0             0.0   \n",
       "3    1.0     ...                 0.0         1.0         1.0             0.0   \n",
       "4    0.0     ...                 NaN         NaN         NaN             NaN   \n",
       "\n",
       "   gAGTR2 G1675A  gCYP11B2 C344T  gGNB3 825C>T  gNOS3 T786C  gNOS3 G894T   \\\n",
       "0            NaN             NaN           NaN          0.0           2.0   \n",
       "1            2.0             1.0           1.0          1.0           1.0   \n",
       "2            2.0             1.0           0.0          2.0           0.0   \n",
       "3            2.0             1.0           2.0          1.0           1.0   \n",
       "4            NaN             NaN           NaN          NaN           NaN   \n",
       "\n",
       "   DisNeuro01  \n",
       "0           0  \n",
       "1           0  \n",
       "2           0  \n",
       "3           0  \n",
       "4           0  \n",
       "\n",
       "[5 rows x 25 columns]"
      ]
     },
     "execution_count": 5,
     "metadata": {},
     "output_type": "execute_result"
    }
   ],
   "source": [
    "data = pd.read_excel('Data.xlsm')\n",
    "data.head()"
   ]
  },
  {
   "cell_type": "code",
   "execution_count": 6,
   "metadata": {},
   "outputs": [
    {
     "data": {
      "text/html": [
       "<div>\n",
       "<table border=\"1\" class=\"dataframe\">\n",
       "  <thead>\n",
       "    <tr style=\"text-align: right;\">\n",
       "      <th></th>\n",
       "      <th>Sex01</th>\n",
       "      <th>StrokeAge</th>\n",
       "      <th>gFGB</th>\n",
       "      <th>gF2</th>\n",
       "      <th>gF5</th>\n",
       "      <th>gF7VII</th>\n",
       "      <th>gF13</th>\n",
       "      <th>gITGA</th>\n",
       "      <th>gITGB</th>\n",
       "      <th>gPAI-1</th>\n",
       "      <th>...</th>\n",
       "      <th>gADD1 1378 G&gt;T</th>\n",
       "      <th>gAGT T704C</th>\n",
       "      <th>gAGT C521T</th>\n",
       "      <th>gAGTR1 A 1166C</th>\n",
       "      <th>gAGTR2 G1675A</th>\n",
       "      <th>gCYP11B2 C344T</th>\n",
       "      <th>gGNB3 825C&gt;T</th>\n",
       "      <th>gNOS3 T786C</th>\n",
       "      <th>gNOS3 G894T</th>\n",
       "      <th>DisNeuro01</th>\n",
       "    </tr>\n",
       "  </thead>\n",
       "  <tbody>\n",
       "    <tr>\n",
       "      <th>count</th>\n",
       "      <td>154.000000</td>\n",
       "      <td>151.000000</td>\n",
       "      <td>154.000000</td>\n",
       "      <td>154.000000</td>\n",
       "      <td>154.000000</td>\n",
       "      <td>148.000000</td>\n",
       "      <td>148.000000</td>\n",
       "      <td>151.000000</td>\n",
       "      <td>152.000000</td>\n",
       "      <td>153.000000</td>\n",
       "      <td>...</td>\n",
       "      <td>71.000000</td>\n",
       "      <td>72.000000</td>\n",
       "      <td>72.000000</td>\n",
       "      <td>72.000000</td>\n",
       "      <td>72.000000</td>\n",
       "      <td>72.000000</td>\n",
       "      <td>72.000000</td>\n",
       "      <td>81.000000</td>\n",
       "      <td>81.000000</td>\n",
       "      <td>154.000000</td>\n",
       "    </tr>\n",
       "    <tr>\n",
       "      <th>mean</th>\n",
       "      <td>0.655844</td>\n",
       "      <td>3.350993</td>\n",
       "      <td>0.577922</td>\n",
       "      <td>0.045455</td>\n",
       "      <td>0.064935</td>\n",
       "      <td>0.162162</td>\n",
       "      <td>0.594595</td>\n",
       "      <td>0.880795</td>\n",
       "      <td>0.388158</td>\n",
       "      <td>1.176471</td>\n",
       "      <td>...</td>\n",
       "      <td>0.577465</td>\n",
       "      <td>0.958333</td>\n",
       "      <td>0.333333</td>\n",
       "      <td>0.486111</td>\n",
       "      <td>1.097222</td>\n",
       "      <td>1.125000</td>\n",
       "      <td>0.541667</td>\n",
       "      <td>1.074074</td>\n",
       "      <td>0.567901</td>\n",
       "      <td>0.474026</td>\n",
       "    </tr>\n",
       "    <tr>\n",
       "      <th>std</th>\n",
       "      <td>0.476642</td>\n",
       "      <td>4.650733</td>\n",
       "      <td>0.634338</td>\n",
       "      <td>0.208979</td>\n",
       "      <td>0.272373</td>\n",
       "      <td>0.421433</td>\n",
       "      <td>0.668411</td>\n",
       "      <td>0.692119</td>\n",
       "      <td>0.540411</td>\n",
       "      <td>0.708201</td>\n",
       "      <td>...</td>\n",
       "      <td>0.710372</td>\n",
       "      <td>0.700855</td>\n",
       "      <td>0.530745</td>\n",
       "      <td>0.581234</td>\n",
       "      <td>0.921721</td>\n",
       "      <td>0.710832</td>\n",
       "      <td>0.626583</td>\n",
       "      <td>0.720725</td>\n",
       "      <td>0.650736</td>\n",
       "      <td>0.500954</td>\n",
       "    </tr>\n",
       "    <tr>\n",
       "      <th>min</th>\n",
       "      <td>0.000000</td>\n",
       "      <td>0.000000</td>\n",
       "      <td>0.000000</td>\n",
       "      <td>0.000000</td>\n",
       "      <td>0.000000</td>\n",
       "      <td>0.000000</td>\n",
       "      <td>0.000000</td>\n",
       "      <td>0.000000</td>\n",
       "      <td>0.000000</td>\n",
       "      <td>0.000000</td>\n",
       "      <td>...</td>\n",
       "      <td>0.000000</td>\n",
       "      <td>0.000000</td>\n",
       "      <td>0.000000</td>\n",
       "      <td>0.000000</td>\n",
       "      <td>0.000000</td>\n",
       "      <td>0.000000</td>\n",
       "      <td>0.000000</td>\n",
       "      <td>0.000000</td>\n",
       "      <td>0.000000</td>\n",
       "      <td>0.000000</td>\n",
       "    </tr>\n",
       "    <tr>\n",
       "      <th>25%</th>\n",
       "      <td>0.000000</td>\n",
       "      <td>0.000000</td>\n",
       "      <td>0.000000</td>\n",
       "      <td>0.000000</td>\n",
       "      <td>0.000000</td>\n",
       "      <td>0.000000</td>\n",
       "      <td>0.000000</td>\n",
       "      <td>0.000000</td>\n",
       "      <td>0.000000</td>\n",
       "      <td>1.000000</td>\n",
       "      <td>...</td>\n",
       "      <td>0.000000</td>\n",
       "      <td>0.000000</td>\n",
       "      <td>0.000000</td>\n",
       "      <td>0.000000</td>\n",
       "      <td>0.000000</td>\n",
       "      <td>1.000000</td>\n",
       "      <td>0.000000</td>\n",
       "      <td>1.000000</td>\n",
       "      <td>0.000000</td>\n",
       "      <td>0.000000</td>\n",
       "    </tr>\n",
       "    <tr>\n",
       "      <th>50%</th>\n",
       "      <td>1.000000</td>\n",
       "      <td>1.000000</td>\n",
       "      <td>0.500000</td>\n",
       "      <td>0.000000</td>\n",
       "      <td>0.000000</td>\n",
       "      <td>0.000000</td>\n",
       "      <td>0.000000</td>\n",
       "      <td>1.000000</td>\n",
       "      <td>0.000000</td>\n",
       "      <td>1.000000</td>\n",
       "      <td>...</td>\n",
       "      <td>0.000000</td>\n",
       "      <td>1.000000</td>\n",
       "      <td>0.000000</td>\n",
       "      <td>0.000000</td>\n",
       "      <td>1.000000</td>\n",
       "      <td>1.000000</td>\n",
       "      <td>0.000000</td>\n",
       "      <td>1.000000</td>\n",
       "      <td>0.000000</td>\n",
       "      <td>0.000000</td>\n",
       "    </tr>\n",
       "    <tr>\n",
       "      <th>75%</th>\n",
       "      <td>1.000000</td>\n",
       "      <td>4.500000</td>\n",
       "      <td>1.000000</td>\n",
       "      <td>0.000000</td>\n",
       "      <td>0.000000</td>\n",
       "      <td>0.000000</td>\n",
       "      <td>1.000000</td>\n",
       "      <td>1.000000</td>\n",
       "      <td>1.000000</td>\n",
       "      <td>2.000000</td>\n",
       "      <td>...</td>\n",
       "      <td>1.000000</td>\n",
       "      <td>1.000000</td>\n",
       "      <td>1.000000</td>\n",
       "      <td>1.000000</td>\n",
       "      <td>2.000000</td>\n",
       "      <td>2.000000</td>\n",
       "      <td>1.000000</td>\n",
       "      <td>2.000000</td>\n",
       "      <td>1.000000</td>\n",
       "      <td>1.000000</td>\n",
       "    </tr>\n",
       "    <tr>\n",
       "      <th>max</th>\n",
       "      <td>1.000000</td>\n",
       "      <td>17.000000</td>\n",
       "      <td>2.000000</td>\n",
       "      <td>1.000000</td>\n",
       "      <td>2.000000</td>\n",
       "      <td>2.000000</td>\n",
       "      <td>2.000000</td>\n",
       "      <td>2.000000</td>\n",
       "      <td>2.000000</td>\n",
       "      <td>2.000000</td>\n",
       "      <td>...</td>\n",
       "      <td>2.000000</td>\n",
       "      <td>2.000000</td>\n",
       "      <td>2.000000</td>\n",
       "      <td>2.000000</td>\n",
       "      <td>2.000000</td>\n",
       "      <td>2.000000</td>\n",
       "      <td>2.000000</td>\n",
       "      <td>2.000000</td>\n",
       "      <td>2.000000</td>\n",
       "      <td>1.000000</td>\n",
       "    </tr>\n",
       "  </tbody>\n",
       "</table>\n",
       "<p>8 rows × 24 columns</p>\n",
       "</div>"
      ],
      "text/plain": [
       "            Sex01   StrokeAge        gFGB         gF2         gF5      gF7VII  \\\n",
       "count  154.000000  151.000000  154.000000  154.000000  154.000000  148.000000   \n",
       "mean     0.655844    3.350993    0.577922    0.045455    0.064935    0.162162   \n",
       "std      0.476642    4.650733    0.634338    0.208979    0.272373    0.421433   \n",
       "min      0.000000    0.000000    0.000000    0.000000    0.000000    0.000000   \n",
       "25%      0.000000    0.000000    0.000000    0.000000    0.000000    0.000000   \n",
       "50%      1.000000    1.000000    0.500000    0.000000    0.000000    0.000000   \n",
       "75%      1.000000    4.500000    1.000000    0.000000    0.000000    0.000000   \n",
       "max      1.000000   17.000000    2.000000    1.000000    2.000000    2.000000   \n",
       "\n",
       "             gF13       gITGA       gITGB      gPAI-1     ...      \\\n",
       "count  148.000000  151.000000  152.000000  153.000000     ...       \n",
       "mean     0.594595    0.880795    0.388158    1.176471     ...       \n",
       "std      0.668411    0.692119    0.540411    0.708201     ...       \n",
       "min      0.000000    0.000000    0.000000    0.000000     ...       \n",
       "25%      0.000000    0.000000    0.000000    1.000000     ...       \n",
       "50%      0.000000    1.000000    0.000000    1.000000     ...       \n",
       "75%      1.000000    1.000000    1.000000    2.000000     ...       \n",
       "max      2.000000    2.000000    2.000000    2.000000     ...       \n",
       "\n",
       "       gADD1 1378 G>T  gAGT T704C  gAGT C521T  gAGTR1 A 1166C  gAGTR2 G1675A  \\\n",
       "count       71.000000   72.000000   72.000000       72.000000      72.000000   \n",
       "mean         0.577465    0.958333    0.333333        0.486111       1.097222   \n",
       "std          0.710372    0.700855    0.530745        0.581234       0.921721   \n",
       "min          0.000000    0.000000    0.000000        0.000000       0.000000   \n",
       "25%          0.000000    0.000000    0.000000        0.000000       0.000000   \n",
       "50%          0.000000    1.000000    0.000000        0.000000       1.000000   \n",
       "75%          1.000000    1.000000    1.000000        1.000000       2.000000   \n",
       "max          2.000000    2.000000    2.000000        2.000000       2.000000   \n",
       "\n",
       "       gCYP11B2 C344T  gGNB3 825C>T  gNOS3 T786C  gNOS3 G894T   DisNeuro01  \n",
       "count       72.000000     72.000000    81.000000     81.000000  154.000000  \n",
       "mean         1.125000      0.541667     1.074074      0.567901    0.474026  \n",
       "std          0.710832      0.626583     0.720725      0.650736    0.500954  \n",
       "min          0.000000      0.000000     0.000000      0.000000    0.000000  \n",
       "25%          1.000000      0.000000     1.000000      0.000000    0.000000  \n",
       "50%          1.000000      0.000000     1.000000      0.000000    0.000000  \n",
       "75%          2.000000      1.000000     2.000000      1.000000    1.000000  \n",
       "max          2.000000      2.000000     2.000000      2.000000    1.000000  \n",
       "\n",
       "[8 rows x 24 columns]"
      ]
     },
     "execution_count": 6,
     "metadata": {},
     "output_type": "execute_result"
    }
   ],
   "source": [
    "data.describe()"
   ]
  },
  {
   "cell_type": "markdown",
   "metadata": {
    "collapsed": true
   },
   "source": [
    "Данные имею большую размерность и для того, чтобы посмотреть общую зависимость преобразуем данные\n",
    "методом главных компонент"
   ]
  },
  {
   "cell_type": "code",
   "execution_count": 39,
   "metadata": {
    "collapsed": true
   },
   "outputs": [],
   "source": [
    "data = data.dropna()\n",
    "data['Stroke(AIS,TIA,AHS)'] = 1\n",
    "X = data.ix[:, :-1]\n",
    "y = data.ix[:, -1]\n",
    "X_train, X_test, y_train, y_test = train_test_split(X, y, random_state=0)\n",
    "scaler = StandardScaler() # Скалируем данные - mean=0, std=1\n",
    "X_scaled = scaler.fit_transform(X_train)\n",
    "X_test_scaled = scaler.fit_transform(X_test)"
   ]
  },
  {
   "cell_type": "code",
   "execution_count": 40,
   "metadata": {},
   "outputs": [
    {
     "name": "stdout",
     "output_type": "stream",
     "text": [
      "Первоначальная форма: (53, 24)\n",
      "Урезанная форма: (53, 2)\n"
     ]
    }
   ],
   "source": [
    "pca = PCA(n_components=2)\n",
    "pca.fit(X_scaled)\n",
    "X_pca = pca.transform(X_scaled)\n",
    "print(\"Первоначальная форма: {}\".format(str(X_scaled.shape)))\n",
    "print(\"Урезанная форма: {}\".format(str(X_pca.shape)))"
   ]
  },
  {
   "cell_type": "code",
   "execution_count": 41,
   "metadata": {},
   "outputs": [
    {
     "data": {
      "text/plain": [
       "[<matplotlib.lines.Line2D at 0x7f076463bc50>,\n",
       " <matplotlib.lines.Line2D at 0x7f076463bbe0>]"
      ]
     },
     "execution_count": 41,
     "metadata": {},
     "output_type": "execute_result"
    },
    {
     "data": {
      "image/png": "[encoded data removed]",
      "text/plain": [
       "<matplotlib.figure.Figure at 0x7f0764a70f60>"
      ]
     },
     "metadata": {},
     "output_type": "display_data"
    }
   ],
   "source": [
    "%matplotlib inline\n",
    "plt.figure(figsize=(8, 8))\n",
    "mglearn.discrete_scatter(X_pca[:, 0], X_pca[:, 1], y_train)"
   ]
  },
  {
   "cell_type": "code",
   "execution_count": 42,
   "metadata": {},
   "outputs": [
    {
     "data": {
      "text/plain": [
       "<matplotlib.text.Text at 0x7f0764674eb8>"
      ]
     },
     "execution_count": 42,
     "metadata": {},
     "output_type": "execute_result"
    },
    {
     "data": {
      "image/png": "[encoded data removed]",
      "text/plain": [
       "<matplotlib.figure.Figure at 0x7f07645ff780>"
      ]
     },
     "metadata": {},
     "output_type": "display_data"
    }
   ],
   "source": [
    "plt.matshow(pca.components_, cmap='viridis')\n",
    "plt.yticks([0, 1], [\"First component\", \"Second component\"])\n",
    "plt.colorbar()\n",
    "plt.xticks(range(len(X_train.columns)), X_train.columns, rotation=60, ha='left')\n",
    "plt.xlabel(\"Feature\")\n",
    "plt.ylabel(\"Principal components\")"
   ]
  },
  {
   "cell_type": "code",
   "execution_count": 63,
   "metadata": {},
   "outputs": [
    {
     "name": "stdout",
     "output_type": "stream",
     "text": [
      "На обучающей выборке: 0.8490566037735849\n",
      "На тестовой выборке: 0.4444444444444444\n"
     ]
    }
   ],
   "source": [
    "logit_reg = LogisticRegression(C=1000)\n",
    "logit_reg.fit(X_scaled, y_train)\n",
    "print(\"На обучающей выборке: {}\".format(logit_reg.score(X_scaled, y_train)))\n",
    "print(\"На тестовой выборке: {}\".format(logit_reg.score(X_test_scaled, y_test)))"
   ]
  },
  {
   "cell_type": "code",
   "execution_count": 64,
   "metadata": {},
   "outputs": [
    {
     "data": {
      "text/plain": [
       "<matplotlib.text.Text at 0x7f0763ec09b0>"
      ]
     },
     "execution_count": 64,
     "metadata": {},
     "output_type": "execute_result"
    },
    {
     "data": {
      "image/png": "[encoded data removed]",
      "text/plain": [
       "<matplotlib.figure.Figure at 0x7f0764041128>"
      ]
     },
     "metadata": {},
     "output_type": "display_data"
    }
   ],
   "source": [
    "plt.plot(logit_reg.coef_.T, 'o', label='Коэффициенты логит. регресии')\n",
    "plt.xticks(range(X.shape[1]), X.columns, rotation=90)\n",
    "plt.hlines(0, 0, X.shape[1])\n",
    "plt.ylim(-5, 5)\n",
    "plt.xlabel(\"Коэффициенты признаков\")\n",
    "plt.ylabel(\"Коэффициенты усиления\")"
   ]
  },
  {
   "cell_type": "code",
   "execution_count": 130,
   "metadata": {},
   "outputs": [],
   "source": [
    "mlp = MLPClassifier(alpha=0.001, activation='relu', max_iter=3000, random_state=15, hidden_layer_sizes=[100, 400]).fit(X_scaled, y_train)"
   ]
  },
  {
   "cell_type": "code",
   "execution_count": 131,
   "metadata": {
    "scrolled": true
   },
   "outputs": [
    {
     "name": "stdout",
     "output_type": "stream",
     "text": [
      "Accuracy on training set: 1.00\n",
      "Accuracy on test set: 0.56\n"
     ]
    }
   ],
   "source": [
    "print(\"Accuracy on training set: {:.2f}\".format(mlp.score(X_scaled, y_train)))\n",
    "print(\"Accuracy on test set: {:.2f}\".format(mlp.score(X_test_scaled, y_test)))"
   ]
  },
  {
   "cell_type": "code",
   "execution_count": null,
   "metadata": {
    "collapsed": true
   },
   "outputs": [],
   "source": []
  }
 ],
 "metadata": {
  "kernelspec": {
   "display_name": "Python 3",
   "language": "python",
   "name": "python3"
  },
  "language_info": {
   "codemirror_mode": {
    "name": "ipython",
    "version": 3
   },
   "file_extension": ".py",
   "mimetype": "text/x-python",
   "name": "python",
   "nbconvert_exporter": "python",
   "pygments_lexer": "ipython3",
   "version": "3.6.1"
  }
 },
 "nbformat": 4,
 "nbformat_minor": 2
}
